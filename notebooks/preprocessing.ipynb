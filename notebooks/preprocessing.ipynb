{
 "cells": [
  {
   "cell_type": "markdown",
   "metadata": {},
   "source": [
    "## Aneks preprocessing"
   ]
  },
  {
   "cell_type": "code",
   "execution_count": null,
   "metadata": {},
   "outputs": [],
   "source": [
    "import pandas as pd\n",
    "from sklearn.model_selection import train_test_split\n",
    "\n",
    "aneks = pd.read_csv('../data/aneks/raw/anekdotovru.csv')\n",
    "aneks2 = pd.read_csv('../data/aneks/raw/anekdotovru2.csv')\n",
    "aneks3 = pd.read_csv('../data/aneks/raw/anekdotovru3.csv')\n",
    "aneks4 = pd.read_csv('../data/aneks/raw/anekdotovru4.csv')\n",
    "aneks5 = pd.read_csv('../data/aneks/raw/anekdotovru5.csv')\n",
    "aneks6 = pd.read_csv('../data/aneks/raw/anekdotovru6.csv')\n",
    "aneks7 = pd.read_csv('../data/aneks/raw/anekdotovru7.csv')\n",
    "aneks8 = pd.read_csv('../data/aneks/raw/anekdotovru8.csv')\n",
    "aneks9 = pd.read_csv('../data/aneks/raw/anekdotovru9.csv')\n",
    "aneks10 = pd.read_csv('../data/aneks/raw/anekdotov_net.csv')['anek']\n",
    "aneks11 = pd.read_csv('../data/aneks/raw/anekdotov_net2.csv')['anek']\n",
    "aneks12 = pd.read_csv('../data/aneks/raw/anekdotov_net_microrofls.csv')['anek']\n",
    "aneks13 = pd.read_csv('../data/aneks/raw/shutochki.csv').dropna()\n",
    "\n",
    "total = pd.concat([aneks, aneks2, aneks3, aneks4, aneks5, aneks6, aneks7, aneks8, aneks9,\n",
    "                   aneks10, aneks11, aneks12, aneks13], axis=0)"
   ]
  },
  {
   "cell_type": "code",
   "execution_count": null,
   "metadata": {},
   "outputs": [
    {
     "data": {
      "text/plain": [
       "0         <div class=\"text\">Выборы президентов США как б...\n",
       "1         <div class=\"text\">Если Китай для стран бывшего...\n",
       "2         <div class=\"text\">Многие мужчины путают женить...\n",
       "3         <div class=\"text\">Жизненный парадокс: пока жив...\n",
       "4         <div class=\"text\">Я помню доллар за 6000 рубле...\n",
       "                                ...                        \n",
       "540385    <div class=\"text\">Решила таганская братва отдо...\n",
       "540386    <div class=\"text\">Попросила сестра брата-нарко...\n",
       "540387    <div class=\"text\">Жираф ежу рассказывает:<br> ...\n",
       "540388    <div class=\"text\">Малыш : Карлсон, ты за кого ...\n",
       "540389    <div class=\"text\">Катит по Подмосковью ``Гранд...\n",
       "Name: anek, Length: 529005, dtype: object"
      ]
     },
     "execution_count": 4,
     "metadata": {},
     "output_type": "execute_result"
    }
   ],
   "source": []
  },
  {
   "cell_type": "code",
   "execution_count": 3,
   "metadata": {},
   "outputs": [],
   "source": [
    "total = total.drop_duplicates('anek')"
   ]
  },
  {
   "cell_type": "code",
   "execution_count": 4,
   "metadata": {},
   "outputs": [
    {
     "data": {
      "text/plain": [
       "(347285, 1)"
      ]
     },
     "execution_count": 4,
     "metadata": {},
     "output_type": "execute_result"
    }
   ],
   "source": [
    "total.shape"
   ]
  },
  {
   "cell_type": "code",
   "execution_count": 5,
   "metadata": {},
   "outputs": [
    {
     "data": {
      "text/html": [
       "<div>\n",
       "<style scoped>\n",
       "    .dataframe tbody tr th:only-of-type {\n",
       "        vertical-align: middle;\n",
       "    }\n",
       "\n",
       "    .dataframe tbody tr th {\n",
       "        vertical-align: top;\n",
       "    }\n",
       "\n",
       "    .dataframe thead th {\n",
       "        text-align: right;\n",
       "    }\n",
       "</style>\n",
       "<table border=\"1\" class=\"dataframe\">\n",
       "  <thead>\n",
       "    <tr style=\"text-align: right;\">\n",
       "      <th></th>\n",
       "      <th>anek</th>\n",
       "    </tr>\n",
       "  </thead>\n",
       "  <tbody>\n",
       "    <tr>\n",
       "      <th>0</th>\n",
       "      <td>решила жена заглянуть к своему мужу — директор...</td>\n",
       "    </tr>\n",
       "    <tr>\n",
       "      <th>1</th>\n",
       "      <td>- куда ты поступил учиться?- в медицинский.- о...</td>\n",
       "    </tr>\n",
       "    <tr>\n",
       "      <th>2</th>\n",
       "      <td>как руководитель высшего звена он поднялся из ...</td>\n",
       "    </tr>\n",
       "    <tr>\n",
       "      <th>3</th>\n",
       "      <td>блондинка — мужу: — милый, купи мне новый теле...</td>\n",
       "    </tr>\n",
       "    <tr>\n",
       "      <th>4</th>\n",
       "      <td>— пишите: «я, находясь в трезвом уме и здравой...</td>\n",
       "    </tr>\n",
       "    <tr>\n",
       "      <th>...</th>\n",
       "      <td>...</td>\n",
       "    </tr>\n",
       "    <tr>\n",
       "      <th>63273</th>\n",
       "      <td>— вы можете содержать семью? — спрашивает отец...</td>\n",
       "    </tr>\n",
       "    <tr>\n",
       "      <th>63274</th>\n",
       "      <td>всемирный симпозиум воров. проходит демонстрац...</td>\n",
       "    </tr>\n",
       "    <tr>\n",
       "      <th>63275</th>\n",
       "      <td>дед у своей старухи спрашивает:- послушай, ман...</td>\n",
       "    </tr>\n",
       "    <tr>\n",
       "      <th>63276</th>\n",
       "      <td>столкнулись на перекрестке 600 и копейка. из 6...</td>\n",
       "    </tr>\n",
       "    <tr>\n",
       "      <th>63277</th>\n",
       "      <td>собрался один одессит в италию ехать, ну, ему ...</td>\n",
       "    </tr>\n",
       "  </tbody>\n",
       "</table>\n",
       "<p>60853 rows × 1 columns</p>\n",
       "</div>"
      ],
      "text/plain": [
       "                                                    anek\n",
       "0      решила жена заглянуть к своему мужу — директор...\n",
       "1      - куда ты поступил учиться?- в медицинский.- о...\n",
       "2      как руководитель высшего звена он поднялся из ...\n",
       "3      блондинка — мужу: — милый, купи мне новый теле...\n",
       "4      — пишите: «я, находясь в трезвом уме и здравой...\n",
       "...                                                  ...\n",
       "63273  — вы можете содержать семью? — спрашивает отец...\n",
       "63274  всемирный симпозиум воров. проходит демонстрац...\n",
       "63275  дед у своей старухи спрашивает:- послушай, ман...\n",
       "63276  столкнулись на перекрестке 600 и копейка. из 6...\n",
       "63277  собрался один одессит в италию ехать, ну, ему ...\n",
       "\n",
       "[60853 rows x 1 columns]"
      ]
     },
     "execution_count": 5,
     "metadata": {},
     "output_type": "execute_result"
    }
   ],
   "source": [
    "aneks13"
   ]
  },
  {
   "cell_type": "code",
   "execution_count": 6,
   "metadata": {},
   "outputs": [],
   "source": [
    "total['n'] = None in total.anek"
   ]
  },
  {
   "cell_type": "code",
   "execution_count": 7,
   "metadata": {},
   "outputs": [
    {
     "data": {
      "text/plain": [
       "np.int64(0)"
      ]
     },
     "execution_count": 7,
     "metadata": {},
     "output_type": "execute_result"
    }
   ],
   "source": [
    "total.n.sum()"
   ]
  },
  {
   "cell_type": "code",
   "execution_count": 8,
   "metadata": {},
   "outputs": [],
   "source": [
    "total = total.reset_index(drop=True)\n",
    "total['anek'].to_json(r'D:/workspace/projects/anek/data/aneks/processed/aneks.json')"
   ]
  },
  {
   "cell_type": "code",
   "execution_count": 7,
   "metadata": {},
   "outputs": [
    {
     "data": {
      "text/plain": [
       "0         собрались как-то креативщик, пиарщик и технарь...\n",
       "1         пошёл к психологу. он час убеждал меня, что я ...\n",
       "2         деноминация проводится только тогда, когда кор...\n",
       "3         президент сша дональд трамп обложил пошлинами ...\n",
       "4         психотерапия - это такой созвон, где ты платиш...\n",
       "                                ...                        \n",
       "347281    — вы можете содержать семью? — спрашивает отец...\n",
       "347282    всемирный симпозиум воров. проходит демонстрац...\n",
       "347283    дед у своей старухи спрашивает:- послушай, ман...\n",
       "347284    столкнулись на перекрестке 600 и копейка. из 6...\n",
       "347285    собрался один одессит в италию ехать, ну, ему ...\n",
       "Name: anek, Length: 347286, dtype: object"
      ]
     },
     "execution_count": 7,
     "metadata": {},
     "output_type": "execute_result"
    }
   ],
   "source": [
    "total['anek']"
   ]
  },
  {
   "cell_type": "code",
   "execution_count": 15,
   "metadata": {},
   "outputs": [],
   "source": [
    "train, test = train_test_split(total, train_size=0.96)\n",
    "train.reset_index(drop=True, inplace=True)\n",
    "test.reset_index(drop=True, inplace=True)"
   ]
  },
  {
   "cell_type": "code",
   "execution_count": 16,
   "metadata": {},
   "outputs": [
    {
     "data": {
      "text/plain": [
       "(12140,)"
      ]
     },
     "execution_count": 16,
     "metadata": {},
     "output_type": "execute_result"
    }
   ],
   "source": [
    "test.shape"
   ]
  },
  {
   "cell_type": "code",
   "execution_count": 17,
   "metadata": {},
   "outputs": [],
   "source": [
    "train.to_json(r'D:/workspace/projects/anek/data/aneks/processed/train.json')\n",
    "test.to_json(r'D:/workspace/projects/anek/data/aneks/processed/test.json')"
   ]
  },
  {
   "cell_type": "code",
   "execution_count": 22,
   "metadata": {},
   "outputs": [
    {
     "data": {
      "text/plain": [
       "303727"
      ]
     },
     "execution_count": 22,
     "metadata": {},
     "output_type": "execute_result"
    }
   ],
   "source": [
    "len(total)"
   ]
  },
  {
   "cell_type": "code",
   "execution_count": null,
   "metadata": {},
   "outputs": [],
   "source": []
  },
  {
   "cell_type": "code",
   "execution_count": null,
   "metadata": {},
   "outputs": [],
   "source": []
  },
  {
   "cell_type": "code",
   "execution_count": 1,
   "metadata": {},
   "outputs": [],
   "source": [
    "import pandas as pd\n",
    "from sklearn.model_selection import train_test_split\n",
    "\n",
    "aneks = pd.read_csv('../data/aneks/raw/for_lora/anekdotru1.csv')"
   ]
  },
  {
   "cell_type": "code",
   "execution_count": 2,
   "metadata": {},
   "outputs": [
    {
     "data": {
      "text/html": [
       "<div>\n",
       "<style scoped>\n",
       "    .dataframe tbody tr th:only-of-type {\n",
       "        vertical-align: middle;\n",
       "    }\n",
       "\n",
       "    .dataframe tbody tr th {\n",
       "        vertical-align: top;\n",
       "    }\n",
       "\n",
       "    .dataframe thead th {\n",
       "        text-align: right;\n",
       "    }\n",
       "</style>\n",
       "<table border=\"1\" class=\"dataframe\">\n",
       "  <thead>\n",
       "    <tr style=\"text-align: right;\">\n",
       "      <th></th>\n",
       "      <th>anek</th>\n",
       "    </tr>\n",
       "  </thead>\n",
       "  <tbody>\n",
       "    <tr>\n",
       "      <th>0</th>\n",
       "      <td>&lt;div class=\"text\"&gt;Выборы президентов США как б...</td>\n",
       "    </tr>\n",
       "    <tr>\n",
       "      <th>1</th>\n",
       "      <td>&lt;div class=\"text\"&gt;Если Китай для стран бывшего...</td>\n",
       "    </tr>\n",
       "    <tr>\n",
       "      <th>2</th>\n",
       "      <td>&lt;div class=\"text\"&gt;Многие мужчины путают женить...</td>\n",
       "    </tr>\n",
       "    <tr>\n",
       "      <th>3</th>\n",
       "      <td>&lt;div class=\"text\"&gt;Жизненный парадокс: пока жив...</td>\n",
       "    </tr>\n",
       "    <tr>\n",
       "      <th>4</th>\n",
       "      <td>&lt;div class=\"text\"&gt;Я помню доллар за 6000 рубле...</td>\n",
       "    </tr>\n",
       "  </tbody>\n",
       "</table>\n",
       "</div>"
      ],
      "text/plain": [
       "                                                anek\n",
       "0  <div class=\"text\">Выборы президентов США как б...\n",
       "1  <div class=\"text\">Если Китай для стран бывшего...\n",
       "2  <div class=\"text\">Многие мужчины путают женить...\n",
       "3  <div class=\"text\">Жизненный парадокс: пока жив...\n",
       "4  <div class=\"text\">Я помню доллар за 6000 рубле..."
      ]
     },
     "execution_count": 2,
     "metadata": {},
     "output_type": "execute_result"
    }
   ],
   "source": [
    "aneks.head()"
   ]
  },
  {
   "cell_type": "code",
   "execution_count": 3,
   "metadata": {},
   "outputs": [],
   "source": [
    "aneks = aneks.dropna()"
   ]
  },
  {
   "cell_type": "code",
   "execution_count": 4,
   "metadata": {},
   "outputs": [
    {
     "data": {
      "text/plain": [
       "(540391, 1)"
      ]
     },
     "execution_count": 4,
     "metadata": {},
     "output_type": "execute_result"
    }
   ],
   "source": [
    "aneks.shape"
   ]
  },
  {
   "cell_type": "code",
   "execution_count": 5,
   "metadata": {},
   "outputs": [],
   "source": [
    "import w3lib.html\n",
    "\n",
    "def clear_anek(anek: str) -> str:\n",
    "    anek = anek.replace('<br>', '\\n')\n",
    "    anek = w3lib.html.remove_tags(anek).strip()\n",
    "    return anek"
   ]
  },
  {
   "cell_type": "code",
   "execution_count": 6,
   "metadata": {},
   "outputs": [],
   "source": [
    "aneks.anek = aneks.anek.apply(clear_anek)"
   ]
  },
  {
   "cell_type": "code",
   "execution_count": 7,
   "metadata": {},
   "outputs": [],
   "source": [
    "aneks.anek = aneks.anek.drop_duplicates().reset_index(drop=True)"
   ]
  },
  {
   "cell_type": "code",
   "execution_count": 8,
   "metadata": {},
   "outputs": [],
   "source": [
    "aneks.dropna(inplace=True)"
   ]
  },
  {
   "cell_type": "code",
   "execution_count": 9,
   "metadata": {},
   "outputs": [],
   "source": [
    "aneks['ln'] = aneks.anek.apply(lambda x: len(x.split()))"
   ]
  },
  {
   "cell_type": "code",
   "execution_count": 10,
   "metadata": {},
   "outputs": [
    {
     "data": {
      "text/html": [
       "<div>\n",
       "<style scoped>\n",
       "    .dataframe tbody tr th:only-of-type {\n",
       "        vertical-align: middle;\n",
       "    }\n",
       "\n",
       "    .dataframe tbody tr th {\n",
       "        vertical-align: top;\n",
       "    }\n",
       "\n",
       "    .dataframe thead th {\n",
       "        text-align: right;\n",
       "    }\n",
       "</style>\n",
       "<table border=\"1\" class=\"dataframe\">\n",
       "  <thead>\n",
       "    <tr style=\"text-align: right;\">\n",
       "      <th></th>\n",
       "      <th>anek</th>\n",
       "      <th>ln</th>\n",
       "    </tr>\n",
       "  </thead>\n",
       "  <tbody>\n",
       "    <tr>\n",
       "      <th>0</th>\n",
       "      <td>Выборы президентов США как будто сняты по реко...</td>\n",
       "      <td>24</td>\n",
       "    </tr>\n",
       "    <tr>\n",
       "      <th>1</th>\n",
       "      <td>Если Китай для стран бывшего СССР это \"сын мам...</td>\n",
       "      <td>52</td>\n",
       "    </tr>\n",
       "    <tr>\n",
       "      <th>2</th>\n",
       "      <td>Многие мужчины путают женитьбу с усыновлением</td>\n",
       "      <td>6</td>\n",
       "    </tr>\n",
       "    <tr>\n",
       "      <th>3</th>\n",
       "      <td>Жизненный парадокс: пока живешь в неблагополуч...</td>\n",
       "      <td>41</td>\n",
       "    </tr>\n",
       "    <tr>\n",
       "      <th>4</th>\n",
       "      <td>Я помню доллар за 6000 рублей, так что знаю - ...</td>\n",
       "      <td>15</td>\n",
       "    </tr>\n",
       "    <tr>\n",
       "      <th>...</th>\n",
       "      <td>...</td>\n",
       "      <td>...</td>\n",
       "    </tr>\n",
       "    <tr>\n",
       "      <th>528985</th>\n",
       "      <td>Решила таганская братва отдохнуть, рыбки полов...</td>\n",
       "      <td>107</td>\n",
       "    </tr>\n",
       "    <tr>\n",
       "      <th>528986</th>\n",
       "      <td>Попросила сестра брата-наркомана с ребенком по...</td>\n",
       "      <td>53</td>\n",
       "    </tr>\n",
       "    <tr>\n",
       "      <th>528987</th>\n",
       "      <td>Жираф ежу рассказывает:\\n - Эх, как же я люблю...</td>\n",
       "      <td>25</td>\n",
       "    </tr>\n",
       "    <tr>\n",
       "      <th>528988</th>\n",
       "      <td>Малыш : Карлсон, ты за кого голосовать-то буде...</td>\n",
       "      <td>26</td>\n",
       "    </tr>\n",
       "    <tr>\n",
       "      <th>528989</th>\n",
       "      <td>Катит по Подмосковью ``Гранд-Чероки``. За руле...</td>\n",
       "      <td>94</td>\n",
       "    </tr>\n",
       "  </tbody>\n",
       "</table>\n",
       "<p>517639 rows × 2 columns</p>\n",
       "</div>"
      ],
      "text/plain": [
       "                                                     anek   ln\n",
       "0       Выборы президентов США как будто сняты по реко...   24\n",
       "1       Если Китай для стран бывшего СССР это \"сын мам...   52\n",
       "2           Многие мужчины путают женитьбу с усыновлением    6\n",
       "3       Жизненный парадокс: пока живешь в неблагополуч...   41\n",
       "4       Я помню доллар за 6000 рублей, так что знаю - ...   15\n",
       "...                                                   ...  ...\n",
       "528985  Решила таганская братва отдохнуть, рыбки полов...  107\n",
       "528986  Попросила сестра брата-наркомана с ребенком по...   53\n",
       "528987  Жираф ежу рассказывает:\\n - Эх, как же я люблю...   25\n",
       "528988  Малыш : Карлсон, ты за кого голосовать-то буде...   26\n",
       "528989  Катит по Подмосковью ``Гранд-Чероки``. За руле...   94\n",
       "\n",
       "[517639 rows x 2 columns]"
      ]
     },
     "execution_count": 10,
     "metadata": {},
     "output_type": "execute_result"
    }
   ],
   "source": [
    "aneks[(aneks.ln > 5) & ((aneks.ln < 256))]"
   ]
  },
  {
   "cell_type": "code",
   "execution_count": 11,
   "metadata": {},
   "outputs": [
    {
     "data": {
      "text/plain": [
       "0         Выборы президентов США как будто сняты по реко...\n",
       "1         Если Китай для стран бывшего СССР это \"сын мам...\n",
       "2             Многие мужчины путают женитьбу с усыновлением\n",
       "3         Жизненный парадокс: пока живешь в неблагополуч...\n",
       "4         Я помню доллар за 6000 рублей, так что знаю - ...\n",
       "                                ...                        \n",
       "528985    Решила таганская братва отдохнуть, рыбки полов...\n",
       "528986    Попросила сестра брата-наркомана с ребенком по...\n",
       "528987    Жираф ежу рассказывает:\\n - Эх, как же я люблю...\n",
       "528988    Малыш : Карлсон, ты за кого голосовать-то буде...\n",
       "528989    Катит по Подмосковью ``Гранд-Чероки``. За руле...\n",
       "Name: anek, Length: 528990, dtype: object"
      ]
     },
     "execution_count": 11,
     "metadata": {},
     "output_type": "execute_result"
    }
   ],
   "source": [
    "aneks.anek.reset_index(drop=True)"
   ]
  },
  {
   "cell_type": "code",
   "execution_count": 12,
   "metadata": {},
   "outputs": [],
   "source": [
    "train, test = train_test_split(aneks.anek, train_size=.98, shuffle=True, random_state=33)"
   ]
  },
  {
   "cell_type": "code",
   "execution_count": 13,
   "metadata": {},
   "outputs": [
    {
     "data": {
      "text/plain": [
       "515679    Примаков пришел к власти.\\nЖурналисты собралис...\n",
       "72458     - Россияне возмущаются тем, что в Украине поют...\n",
       "141365    Путин прилетел в затопленную наводнением Иркут...\n",
       "294732    Чтобы найти новый путь, для начала нужно уйти ...\n",
       "511874    Едет Илья-Муромец по лесу на разборку с Кощеем...\n",
       "                                ...                        \n",
       "196665        В НАТО решили перевооружаться - играть в КВН.\n",
       "158921    Космонавтика с физической точки зрения: бескон...\n",
       "223890    - На всех не напасешься! - сказал пастух и бро...\n",
       "393794    Рабочий день - сложный и изнурительный сексуал...\n",
       "104152    В голливудских постановках бомбу разряжают на ...\n",
       "Name: anek, Length: 518410, dtype: object"
      ]
     },
     "execution_count": 13,
     "metadata": {},
     "output_type": "execute_result"
    }
   ],
   "source": [
    "train"
   ]
  },
  {
   "cell_type": "code",
   "execution_count": 14,
   "metadata": {},
   "outputs": [
    {
     "data": {
      "text/plain": [
       "47066     Украинец Усик победил британца Джошуа на боксё...\n",
       "416290    СКАЖИ ЧЕЛОВЕКУ – ОРЕЛ, И ОН ПОЛЕТИТ\\n(грузинск...\n",
       "24010     Сидят на лавочке двое пожилых мужчин.\\n-Я рань...\n",
       "64357     Байден: Мы уже и так и этак требуем от России ...\n",
       "416673    Андрей так много болеет, что когда он родился ...\n",
       "                                ...                        \n",
       "197380    - Ой, что вы! Он настоящий виртуоз шитья! Можн...\n",
       "223574    Слухи о том, что летом нефть начнут раздавать ...\n",
       "363091    Анфиса Чехова знает о сексе всё, а владельцы \"...\n",
       "375674    Вчера делал с сыном уроки и за каждую ошибку з...\n",
       "524636    Судья:\\n- И вы утвеpждаете, что ваш муж, котоp...\n",
       "Name: anek, Length: 10580, dtype: object"
      ]
     },
     "execution_count": 14,
     "metadata": {},
     "output_type": "execute_result"
    }
   ],
   "source": [
    "test"
   ]
  },
  {
   "cell_type": "code",
   "execution_count": 15,
   "metadata": {},
   "outputs": [],
   "source": [
    "train.reset_index(drop=True, inplace=True)\n",
    "test.reset_index(drop=True, inplace=True)\n",
    "train.to_json(r'D:/workspace/projects/anek/data/aneks/processed/train.json')\n",
    "test.to_json(r'D:/workspace/projects/anek/data/aneks/processed/test.json')"
   ]
  },
  {
   "cell_type": "code",
   "execution_count": 17,
   "metadata": {},
   "outputs": [],
   "source": [
    "aneks['anek'].reset_index(drop=True).to_json(r'D:/workspace/projects/anek/data/aneks/processed/aneks.json')\n",
    "aneks['anek'].reset_index(drop=True).to_csv(r'D:/workspace/projects/anek/data/aneks/processed/aneks.txt', index=False, header=False)"
   ]
  },
  {
   "cell_type": "code",
   "execution_count": null,
   "metadata": {},
   "outputs": [],
   "source": []
  }
 ],
 "metadata": {
  "kernelspec": {
   "display_name": ".venv",
   "language": "python",
   "name": "python3"
  },
  "language_info": {
   "codemirror_mode": {
    "name": "ipython",
    "version": 3
   },
   "file_extension": ".py",
   "mimetype": "text/x-python",
   "name": "python",
   "nbconvert_exporter": "python",
   "pygments_lexer": "ipython3",
   "version": "3.11.8"
  }
 },
 "nbformat": 4,
 "nbformat_minor": 2
}
