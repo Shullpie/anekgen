{
 "cells": [
  {
   "cell_type": "markdown",
   "metadata": {},
   "source": [
    "## Aneks preprocessing"
   ]
  },
  {
   "cell_type": "code",
   "execution_count": 3,
   "metadata": {},
   "outputs": [],
   "source": [
    "import json\n",
    "import pandas as pd\n",
    "from torch.utils.data import random_split\n",
    "from transformers import AutoTokenizer\n",
    "\n",
    "\n",
    "at = AutoTokenizer.from_pretrained('../data/tokens/')\n",
    "aneks = pd.read_csv('../data/aneks/raw/anekdotov_net.csv')\n",
    "aneks2 = pd.read_csv('../data/aneks/raw/anekdotov_net2.csv')\n",
    "rofls = pd.read_csv('../data/aneks/raw/anekdotov_net_microrofls.csv')\n",
    "total = pd.concat([aneks, aneks2, rofls], axis=0)\n",
    "\n",
    "total = total.drop_duplicates('anek')\n",
    "total = total['anek']"
   ]
  },
  {
   "cell_type": "code",
   "execution_count": 4,
   "metadata": {},
   "outputs": [],
   "source": [
    "tokenized = total.apply(lambda x: at.tokenize(x))\n",
    "total = total[tokenized.apply(lambda x: len(x)) < 512]\n",
    "total.reset_index(drop=True, inplace=True)\n",
    "train, test = random_split(total, (int(len(total) * 0.9), len(total) - int(len(total) * 0.9)))"
   ]
  },
  {
   "cell_type": "code",
   "execution_count": 5,
   "metadata": {},
   "outputs": [],
   "source": [
    "for name, df in zip(['train', 'test'], [train, test]):\n",
    "    anek_dict = {}\n",
    "    for i, value in enumerate(df):\n",
    "        anek_dict[i] = value\n",
    "\n",
    "    with open(f'../data/aneks/processed/{name}.json', 'w') as fp:\n",
    "        json.dump(anek_dict, fp)"
   ]
  },
  {
   "cell_type": "markdown",
   "metadata": {},
   "source": [
    "## Vocab preprocessing"
   ]
  },
  {
   "cell_type": "code",
   "execution_count": 6,
   "metadata": {},
   "outputs": [],
   "source": [
    "import json\n",
    "\n",
    "tokens = {}\n",
    "embeddings = {}\n",
    "with open('../data/vocab/raw/bpe.txt', 'r', encoding='utf-8') as f:\n",
    "    for idx, line in enumerate(f):\n",
    "        token, values = line.split(' ', maxsplit=1)\n",
    "        tokens[token] = idx\n",
    "        embeddings[idx] = list(map(float,values.split()))\n",
    "\n",
    "with open('../data/vocab/processed/word2idx.json', 'w') as fp:\n",
    "    json.dump(tokens, fp)\n",
    "\n",
    "with open('../data/vocab/processed/idx2embedding.json', 'w') as fp:\n",
    "    json.dump(embeddings, fp)"
   ]
  }
 ],
 "metadata": {
  "kernelspec": {
   "display_name": ".venv",
   "language": "python",
   "name": "python3"
  },
  "language_info": {
   "codemirror_mode": {
    "name": "ipython",
    "version": 3
   },
   "file_extension": ".py",
   "mimetype": "text/x-python",
   "name": "python",
   "nbconvert_exporter": "python",
   "pygments_lexer": "ipython3",
   "version": "3.11.8"
  }
 },
 "nbformat": 4,
 "nbformat_minor": 2
}
