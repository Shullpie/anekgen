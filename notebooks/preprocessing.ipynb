{
 "cells": [
  {
   "cell_type": "markdown",
   "metadata": {},
   "source": [
    "## Aneks preprocessing"
   ]
  },
  {
   "cell_type": "code",
   "execution_count": 12,
   "metadata": {},
   "outputs": [],
   "source": [
    "import json\n",
    "import pandas as pd\n",
    "from sklearn.model_selection import train_test_split\n",
    "import seaborn as sns\n",
    "\n",
    "aneks = pd.read_csv('../data/aneks/raw/anekdotovru.csv')\n",
    "aneks2 = pd.read_csv('../data/aneks/raw/anekdotovru2.csv')\n",
    "aneks3 = pd.read_csv('../data/aneks/raw/anekdotovru3.csv')\n",
    "aneks4 = pd.read_csv('../data/aneks/raw/anekdotovru4.csv')\n",
    "aneks5 = pd.read_csv('../data/aneks/raw/anekdotovru5.csv')\n",
    "aneks6 = pd.read_csv('../data/aneks/raw/anekdotovru6.csv')\n",
    "aneks7 = pd.read_csv('../data/aneks/raw/anekdotovru7.csv')\n",
    "aneks8 = pd.read_csv('../data/aneks/raw/anekdotovru8.csv')\n",
    "aneks9 = pd.read_csv('../data/aneks/raw/anekdotovru9.csv')\n",
    "aneks10 = pd.read_csv('../data/aneks/raw/anekdotov_net.csv')['anek']\n",
    "aneks11 = pd.read_csv('../data/aneks/raw/anekdotov_net2.csv')['anek']\n",
    "aneks12 = pd.read_csv('../data/aneks/raw/anekdotov_net_microrofls.csv')['anek']\n",
    "\n",
    "total = pd.concat([aneks, aneks2, aneks3, aneks4, aneks5, aneks6, aneks7, aneks8, aneks9,\n",
    "                   aneks10, aneks11, aneks12], axis=0)\n",
    "\n",
    "\n",
    "total = total.drop_duplicates('anek')"
   ]
  },
  {
   "cell_type": "code",
   "execution_count": 13,
   "metadata": {},
   "outputs": [],
   "source": [
    "total['ln'] = total.anek.apply(lambda x: len(x.split()))"
   ]
  },
  {
   "cell_type": "code",
   "execution_count": 14,
   "metadata": {},
   "outputs": [
    {
     "data": {
      "text/plain": [
       "<Axes: xlabel='ln', ylabel='Count'>"
      ]
     },
     "execution_count": 14,
     "metadata": {},
     "output_type": "execute_result"
    },
    {
     "data": {
      "image/png": "[encoded data removed]",
      "text/plain": [
       "<Figure size 640x480 with 1 Axes>"
      ]
     },
     "metadata": {},
     "output_type": "display_data"
    }
   ],
   "source": [
    "sns.histplot(total, x='ln', bins=40)"
   ]
  },
  {
   "cell_type": "code",
   "execution_count": 15,
   "metadata": {},
   "outputs": [
    {
     "data": {
      "text/plain": [
       "5770     6706\n",
       "51035    3947\n",
       "16794    2436\n",
       "20842    2108\n",
       "32861    1865\n",
       "11568    1863\n",
       "67341    1855\n",
       "33706    1489\n",
       "32967    1448\n",
       "54992    1249\n",
       "Name: ln, dtype: int64"
      ]
     },
     "execution_count": 15,
     "metadata": {},
     "output_type": "execute_result"
    }
   ],
   "source": [
    "total.ln.sort_values(ascending=False)[:10]"
   ]
  },
  {
   "cell_type": "code",
   "execution_count": 16,
   "metadata": {},
   "outputs": [
    {
     "data": {
      "text/plain": [
       "(568, 2)"
      ]
     },
     "execution_count": 16,
     "metadata": {},
     "output_type": "execute_result"
    }
   ],
   "source": [
    "total[total.ln>300].shape"
   ]
  },
  {
   "cell_type": "code",
   "execution_count": 17,
   "metadata": {},
   "outputs": [],
   "source": [
    "total = total[total.ln < 300]"
   ]
  },
  {
   "cell_type": "code",
   "execution_count": 18,
   "metadata": {},
   "outputs": [],
   "source": [
    "total = total['anek'].apply(lambda x: x.lower())"
   ]
  },
  {
   "cell_type": "code",
   "execution_count": 19,
   "metadata": {},
   "outputs": [],
   "source": [
    "total = total.reset_index(drop=True)\n",
    "total.to_json(r'D:/workspace/projects/anek/data/aneks/processed/aneks.json')"
   ]
  },
  {
   "cell_type": "code",
   "execution_count": 20,
   "metadata": {},
   "outputs": [],
   "source": [
    "train, test = train_test_split(total, train_size=0.9)\n",
    "train.reset_index(drop=True, inplace=True)\n",
    "test.reset_index(drop=True, inplace=True)"
   ]
  },
  {
   "cell_type": "code",
   "execution_count": 21,
   "metadata": {},
   "outputs": [],
   "source": [
    "train.to_json(r'D:/workspace/projects/anek/data/aneks/processed/train.json')\n",
    "test.to_json(r'D:/workspace/projects/anek/data/aneks/processed/test.json')"
   ]
  },
  {
   "cell_type": "code",
   "execution_count": 22,
   "metadata": {},
   "outputs": [
    {
     "data": {
      "text/plain": [
       "303727"
      ]
     },
     "execution_count": 22,
     "metadata": {},
     "output_type": "execute_result"
    }
   ],
   "source": [
    "len(total)"
   ]
  },
  {
   "cell_type": "markdown",
   "metadata": {},
   "source": [
    "## Vocab preprocessing"
   ]
  },
  {
   "cell_type": "code",
   "execution_count": 6,
   "metadata": {},
   "outputs": [],
   "source": [
    "import json\n",
    "\n",
    "tokens = {}\n",
    "embeddings = {}\n",
    "with open('../data/vocab/raw/bpe.txt', 'r', encoding='utf-8') as f:\n",
    "    for idx, line in enumerate(f):\n",
    "        token, values = line.split(' ', maxsplit=1)\n",
    "        tokens[token] = idx\n",
    "        embeddings[idx] = list(map(float,values.split()))\n",
    "\n",
    "with open('../data/vocab/processed/word2idx.json', 'w') as fp:\n",
    "    json.dump(tokens, fp)\n",
    "\n",
    "with open('../data/vocab/processed/idx2embedding.json', 'w') as fp:\n",
    "    json.dump(embeddings, fp)"
   ]
  }
 ],
 "metadata": {
  "kernelspec": {
   "display_name": ".venv",
   "language": "python",
   "name": "python3"
  },
  "language_info": {
   "codemirror_mode": {
    "name": "ipython",
    "version": 3
   },
   "file_extension": ".py",
   "mimetype": "text/x-python",
   "name": "python",
   "nbconvert_exporter": "python",
   "pygments_lexer": "ipython3",
   "version": "3.11.8"
  }
 },
 "nbformat": 4,
 "nbformat_minor": 2
}
