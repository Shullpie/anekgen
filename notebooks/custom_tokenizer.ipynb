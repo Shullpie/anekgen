{
 "cells": [
  {
   "cell_type": "code",
   "execution_count": 6,
   "metadata": {},
   "outputs": [],
   "source": [
    "import json\n",
    "from tokenizers import ByteLevelBPETokenizer\n",
    "import pandas as pd\n",
    "from sklearn.model_selection import train_test_split\n"
   ]
  },
  {
   "cell_type": "code",
   "execution_count": null,
   "metadata": {},
   "outputs": [],
   "source": [
    "with open(r'../data/aneks/processed/aneks.json', 'r') as f:\n",
    "    aneks = json.load(f)"
   ]
  },
  {
   "cell_type": "code",
   "execution_count": 21,
   "metadata": {},
   "outputs": [
    {
     "data": {
      "text/plain": [
       "516330"
      ]
     },
     "execution_count": 21,
     "metadata": {},
     "output_type": "execute_result"
    }
   ],
   "source": [
    "len(aneks)"
   ]
  },
  {
   "cell_type": "code",
   "execution_count": 6,
   "metadata": {},
   "outputs": [],
   "source": [
    "from tokenizers import ByteLevelBPETokenizer\n",
    "\n",
    "tokenizer = ByteLevelBPETokenizer()\n",
    "\n",
    "tokenizer.train(\n",
    "    r'../data/aneks/processed/aneks.txt',\n",
    "    vocab_size=16000,\n",
    "    special_tokens=[\"[UNK]\", \"[PAD]\", \"[CLS]\", \"[SEP]\", \"[MASK]\", \"[BOS]\", \"[EOS]\"]\n",
    ")\n",
    "\n",
    "tokenizer.save(r'../data/tokenizers/gpt/tokenizer_gpt.json')"
   ]
  },
  {
   "cell_type": "code",
   "execution_count": 7,
   "metadata": {},
   "outputs": [],
   "source": [
    "tokenizer.save(r'../data/tokenizers/gpt/tokenizer_gpt.json')"
   ]
  },
  {
   "cell_type": "code",
   "execution_count": 9,
   "metadata": {},
   "outputs": [],
   "source": [
    "df = pd.DataFrame([v for v in aneks.values()]).rename({0:'anek'}, axis=1)"
   ]
  },
  {
   "cell_type": "code",
   "execution_count": 10,
   "metadata": {},
   "outputs": [
    {
     "data": {
      "text/html": [
       "<div>\n",
       "<style scoped>\n",
       "    .dataframe tbody tr th:only-of-type {\n",
       "        vertical-align: middle;\n",
       "    }\n",
       "\n",
       "    .dataframe tbody tr th {\n",
       "        vertical-align: top;\n",
       "    }\n",
       "\n",
       "    .dataframe thead th {\n",
       "        text-align: right;\n",
       "    }\n",
       "</style>\n",
       "<table border=\"1\" class=\"dataframe\">\n",
       "  <thead>\n",
       "    <tr style=\"text-align: right;\">\n",
       "      <th></th>\n",
       "      <th>anek</th>\n",
       "    </tr>\n",
       "  </thead>\n",
       "  <tbody>\n",
       "    <tr>\n",
       "      <th>0</th>\n",
       "      <td>Выборы президентов США как будто сняты по реко...</td>\n",
       "    </tr>\n",
       "    <tr>\n",
       "      <th>1</th>\n",
       "      <td>Если Китай для стран бывшего СССР это \"сын мам...</td>\n",
       "    </tr>\n",
       "    <tr>\n",
       "      <th>2</th>\n",
       "      <td>Многие мужчины путают женитьбу с усыновлением</td>\n",
       "    </tr>\n",
       "    <tr>\n",
       "      <th>3</th>\n",
       "      <td>Жизненный парадокс: пока живешь в неблагополуч...</td>\n",
       "    </tr>\n",
       "    <tr>\n",
       "      <th>4</th>\n",
       "      <td>Я помню доллар за 6000 рублей, так что знаю - ...</td>\n",
       "    </tr>\n",
       "    <tr>\n",
       "      <th>...</th>\n",
       "      <td>...</td>\n",
       "    </tr>\n",
       "    <tr>\n",
       "      <th>528985</th>\n",
       "      <td>Решила таганская братва отдохнуть, рыбки полов...</td>\n",
       "    </tr>\n",
       "    <tr>\n",
       "      <th>528986</th>\n",
       "      <td>Попросила сестра брата-наркомана с ребенком по...</td>\n",
       "    </tr>\n",
       "    <tr>\n",
       "      <th>528987</th>\n",
       "      <td>Жираф ежу рассказывает:\\n - Эх, как же я люблю...</td>\n",
       "    </tr>\n",
       "    <tr>\n",
       "      <th>528988</th>\n",
       "      <td>Малыш : Карлсон, ты за кого голосовать-то буде...</td>\n",
       "    </tr>\n",
       "    <tr>\n",
       "      <th>528989</th>\n",
       "      <td>Катит по Подмосковью ``Гранд-Чероки``. За руле...</td>\n",
       "    </tr>\n",
       "  </tbody>\n",
       "</table>\n",
       "<p>528990 rows × 1 columns</p>\n",
       "</div>"
      ],
      "text/plain": [
       "                                                     anek\n",
       "0       Выборы президентов США как будто сняты по реко...\n",
       "1       Если Китай для стран бывшего СССР это \"сын мам...\n",
       "2           Многие мужчины путают женитьбу с усыновлением\n",
       "3       Жизненный парадокс: пока живешь в неблагополуч...\n",
       "4       Я помню доллар за 6000 рублей, так что знаю - ...\n",
       "...                                                   ...\n",
       "528985  Решила таганская братва отдохнуть, рыбки полов...\n",
       "528986  Попросила сестра брата-наркомана с ребенком по...\n",
       "528987  Жираф ежу рассказывает:\\n - Эх, как же я люблю...\n",
       "528988  Малыш : Карлсон, ты за кого голосовать-то буде...\n",
       "528989  Катит по Подмосковью ``Гранд-Чероки``. За руле...\n",
       "\n",
       "[528990 rows x 1 columns]"
      ]
     },
     "execution_count": 10,
     "metadata": {},
     "output_type": "execute_result"
    }
   ],
   "source": [
    "df"
   ]
  },
  {
   "cell_type": "code",
   "execution_count": 1,
   "metadata": {},
   "outputs": [],
   "source": [
    "from transformers import PreTrainedTokenizerFast, AutoTokenizer"
   ]
  },
  {
   "cell_type": "code",
   "execution_count": 3,
   "metadata": {},
   "outputs": [],
   "source": [
    "tokenizer = AutoTokenizer.from_pretrained(r'D:\\workspace\\projects\\anek\\data\\tokenizers\\gpt_lora/')"
   ]
  },
  {
   "cell_type": "code",
   "execution_count": 11,
   "metadata": {},
   "outputs": [],
   "source": [
    "tokenizer = PreTrainedTokenizerFast(\n",
    "            tokenizer_file=r'D:\\workspace\\projects\\anek\\data\\tokenizers\\gpt\\tokenizer_gpt.json',\n",
    "            unk_token=\"[UNK]\",\n",
    "            pad_token=\"[PAD]\",\n",
    "            cls_token=\"[CLS]\",\n",
    "            sep_token=\"[SEP]\",\n",
    "            mask_token=\"[MASK]\",\n",
    "            bos_token='[BOS]',\n",
    "            eos_token='[EOS]'\n",
    "        )"
   ]
  },
  {
   "cell_type": "code",
   "execution_count": 4,
   "metadata": {},
   "outputs": [
    {
     "data": {
      "text/plain": [
       "50257"
      ]
     },
     "execution_count": 4,
     "metadata": {},
     "output_type": "execute_result"
    }
   ],
   "source": [
    "tokenizer.vocab_size"
   ]
  },
  {
   "cell_type": "code",
   "execution_count": 11,
   "metadata": {},
   "outputs": [
    {
     "name": "stderr",
     "output_type": "stream",
     "text": [
      "Token indices sequence length is longer than the specified maximum sequence length for this model (4009 > 2048). Running this sequence through the model will result in indexing errors\n"
     ]
    }
   ],
   "source": [
    "df['ln'] = df.anek.apply(lambda x: len(tokenizer.tokenize(x)))"
   ]
  },
  {
   "cell_type": "code",
   "execution_count": 13,
   "metadata": {},
   "outputs": [
    {
     "data": {
      "text/html": [
       "<div>\n",
       "<style scoped>\n",
       "    .dataframe tbody tr th:only-of-type {\n",
       "        vertical-align: middle;\n",
       "    }\n",
       "\n",
       "    .dataframe tbody tr th {\n",
       "        vertical-align: top;\n",
       "    }\n",
       "\n",
       "    .dataframe thead th {\n",
       "        text-align: right;\n",
       "    }\n",
       "</style>\n",
       "<table border=\"1\" class=\"dataframe\">\n",
       "  <thead>\n",
       "    <tr style=\"text-align: right;\">\n",
       "      <th></th>\n",
       "      <th>anek</th>\n",
       "      <th>ln</th>\n",
       "    </tr>\n",
       "  </thead>\n",
       "  <tbody>\n",
       "    <tr>\n",
       "      <th>0</th>\n",
       "      <td>Выборы президентов США как будто сняты по реко...</td>\n",
       "      <td>43</td>\n",
       "    </tr>\n",
       "    <tr>\n",
       "      <th>1</th>\n",
       "      <td>Если Китай для стран бывшего СССР это \"сын мам...</td>\n",
       "      <td>83</td>\n",
       "    </tr>\n",
       "    <tr>\n",
       "      <th>2</th>\n",
       "      <td>Многие мужчины путают женитьбу с усыновлением</td>\n",
       "      <td>9</td>\n",
       "    </tr>\n",
       "    <tr>\n",
       "      <th>3</th>\n",
       "      <td>Жизненный парадокс: пока живешь в неблагополуч...</td>\n",
       "      <td>65</td>\n",
       "    </tr>\n",
       "    <tr>\n",
       "      <th>4</th>\n",
       "      <td>Я помню доллар за 6000 рублей, так что знаю - ...</td>\n",
       "      <td>18</td>\n",
       "    </tr>\n",
       "  </tbody>\n",
       "</table>\n",
       "</div>"
      ],
      "text/plain": [
       "                                                anek  ln\n",
       "0  Выборы президентов США как будто сняты по реко...  43\n",
       "1  Если Китай для стран бывшего СССР это \"сын мам...  83\n",
       "2      Многие мужчины путают женитьбу с усыновлением   9\n",
       "3  Жизненный парадокс: пока живешь в неблагополуч...  65\n",
       "4  Я помню доллар за 6000 рублей, так что знаю - ...  18"
      ]
     },
     "execution_count": 13,
     "metadata": {},
     "output_type": "execute_result"
    }
   ],
   "source": [
    "df.head()"
   ]
  },
  {
   "cell_type": "code",
   "execution_count": 14,
   "metadata": {},
   "outputs": [
    {
     "data": {
      "text/html": [
       "<div>\n",
       "<style scoped>\n",
       "    .dataframe tbody tr th:only-of-type {\n",
       "        vertical-align: middle;\n",
       "    }\n",
       "\n",
       "    .dataframe tbody tr th {\n",
       "        vertical-align: top;\n",
       "    }\n",
       "\n",
       "    .dataframe thead th {\n",
       "        text-align: right;\n",
       "    }\n",
       "</style>\n",
       "<table border=\"1\" class=\"dataframe\">\n",
       "  <thead>\n",
       "    <tr style=\"text-align: right;\">\n",
       "      <th></th>\n",
       "      <th>anek</th>\n",
       "      <th>ln</th>\n",
       "    </tr>\n",
       "  </thead>\n",
       "  <tbody>\n",
       "    <tr>\n",
       "      <th>698</th>\n",
       "      <td>Представьте ситуацию: колл-центр телефонных мо...</td>\n",
       "      <td>261</td>\n",
       "    </tr>\n",
       "    <tr>\n",
       "      <th>905</th>\n",
       "      <td>Короче, пригоняет клиент свою машину в автосер...</td>\n",
       "      <td>261</td>\n",
       "    </tr>\n",
       "    <tr>\n",
       "      <th>908</th>\n",
       "      <td>Православный, мусульманин и атеист умирают и п...</td>\n",
       "      <td>265</td>\n",
       "    </tr>\n",
       "    <tr>\n",
       "      <th>936</th>\n",
       "      <td>Приходит как-то трезвый чёрт к пьяному мужику ...</td>\n",
       "      <td>740</td>\n",
       "    </tr>\n",
       "    <tr>\n",
       "      <th>1138</th>\n",
       "      <td>Падает метеорит в лес. На утро институт направ...</td>\n",
       "      <td>367</td>\n",
       "    </tr>\n",
       "    <tr>\n",
       "      <th>...</th>\n",
       "      <td>...</td>\n",
       "      <td>...</td>\n",
       "    </tr>\n",
       "    <tr>\n",
       "      <th>528815</th>\n",
       "      <td>По Нью-Йоркской 42-й авеню идет солидный мен и...</td>\n",
       "      <td>276</td>\n",
       "    </tr>\n",
       "    <tr>\n",
       "      <th>528844</th>\n",
       "      <td>Бежит волк за зайцем, с'есть его хочет и на те...</td>\n",
       "      <td>270</td>\n",
       "    </tr>\n",
       "    <tr>\n",
       "      <th>528870</th>\n",
       "      <td>Поехали как то мужики на охоту. Приехали и нач...</td>\n",
       "      <td>309</td>\n",
       "    </tr>\n",
       "    <tr>\n",
       "      <th>528881</th>\n",
       "      <td>Нью-Йорк. Из окна небоскреба падает и разбивае...</td>\n",
       "      <td>294</td>\n",
       "    </tr>\n",
       "    <tr>\n",
       "      <th>528939</th>\n",
       "      <td>Русские и американцы поспорили - где народ кру...</td>\n",
       "      <td>266</td>\n",
       "    </tr>\n",
       "  </tbody>\n",
       "</table>\n",
       "<p>4797 rows × 2 columns</p>\n",
       "</div>"
      ],
      "text/plain": [
       "                                                     anek   ln\n",
       "698     Представьте ситуацию: колл-центр телефонных мо...  261\n",
       "905     Короче, пригоняет клиент свою машину в автосер...  261\n",
       "908     Православный, мусульманин и атеист умирают и п...  265\n",
       "936     Приходит как-то трезвый чёрт к пьяному мужику ...  740\n",
       "1138    Падает метеорит в лес. На утро институт направ...  367\n",
       "...                                                   ...  ...\n",
       "528815  По Нью-Йоркской 42-й авеню идет солидный мен и...  276\n",
       "528844  Бежит волк за зайцем, с'есть его хочет и на те...  270\n",
       "528870  Поехали как то мужики на охоту. Приехали и нач...  309\n",
       "528881  Нью-Йорк. Из окна небоскреба падает и разбивае...  294\n",
       "528939  Русские и американцы поспорили - где народ кру...  266\n",
       "\n",
       "[4797 rows x 2 columns]"
      ]
     },
     "execution_count": 14,
     "metadata": {},
     "output_type": "execute_result"
    }
   ],
   "source": [
    "df[df.ln > 256]"
   ]
  },
  {
   "cell_type": "code",
   "execution_count": 15,
   "metadata": {},
   "outputs": [],
   "source": [
    "df = df[df.ln <= 256]\n",
    "df = df['anek']"
   ]
  },
  {
   "cell_type": "code",
   "execution_count": 16,
   "metadata": {},
   "outputs": [],
   "source": [
    "train, test = train_test_split(df, train_size=0.985)"
   ]
  },
  {
   "cell_type": "code",
   "execution_count": 17,
   "metadata": {},
   "outputs": [
    {
     "data": {
      "text/plain": [
       "509662    Какое самое страшное ругательство у глистов?\\n...\n",
       "463167    Решает молодая пара пожениться, но перед этим ...\n",
       "46612     Чтобы уничтожить автопром достаточно запретить...\n",
       "98390     Купил 8К телевизор, но Пугачева пела с черно-б...\n",
       "411444    Язык Си придумали для программистов, которым б...\n",
       "                                ...                        \n",
       "471295    Oтвет мусульман христианам всего мира: фильм \"...\n",
       "70237     На каждое наше мягкое требование – а не могли ...\n",
       "431319    По данным социологического опроса:\\n\\n1. самой...\n",
       "209219    Бывало, ляпнешь что-то не подумав, а потом дум...\n",
       "235820    Жители Республики Беларусь совершенно не поним...\n",
       "Name: anek, Length: 7863, dtype: object"
      ]
     },
     "execution_count": 17,
     "metadata": {},
     "output_type": "execute_result"
    }
   ],
   "source": [
    "test"
   ]
  },
  {
   "cell_type": "code",
   "execution_count": 18,
   "metadata": {},
   "outputs": [],
   "source": [
    "train.reset_index(drop=True).to_json(r'../data/aneks/processed/for_lora/train.json')\n",
    "test.reset_index(drop=True).to_json(r'../data/aneks/processed/for_lora/test.json')"
   ]
  },
  {
   "cell_type": "code",
   "execution_count": 19,
   "metadata": {},
   "outputs": [
    {
     "data": {
      "text/plain": [
       "291149    В Амстердаме открылся первый дом свидании для ...\n",
       "262238    Очень хочу, чтобы судьба взяла меня за волосы ...\n",
       "58957     К молодому красавцу проктологу на приём приход...\n",
       "157853    Правительство вводит новую единицу измерения -...\n",
       "486951    Сын милиционера:\\n- Папа, а что ты мне принес ...\n",
       "                                ...                        \n",
       "220824    - Почему девушки носят мини-юбки?\\n- Товар рек...\n",
       "302955    - Обними меня!\\n - Не, Люся, я боюсь - током с...\n",
       "364286    Когда шведы узнали, что их кронпринцесса выход...\n",
       "521880    Народная примета:\\nЕсли пpогpаммист в 09.00 ут...\n",
       "441940    Посещая свадьбы, Максим Горький отмечал \"А у м...\n",
       "Name: anek, Length: 516330, dtype: object"
      ]
     },
     "execution_count": 19,
     "metadata": {},
     "output_type": "execute_result"
    }
   ],
   "source": [
    "train"
   ]
  },
  {
   "cell_type": "code",
   "execution_count": null,
   "metadata": {},
   "outputs": [],
   "source": []
  }
 ],
 "metadata": {
  "kernelspec": {
   "display_name": ".venv",
   "language": "python",
   "name": "python3"
  },
  "language_info": {
   "codemirror_mode": {
    "name": "ipython",
    "version": 3
   },
   "file_extension": ".py",
   "mimetype": "text/x-python",
   "name": "python",
   "nbconvert_exporter": "python",
   "pygments_lexer": "ipython3",
   "version": "3.11.8"
  }
 },
 "nbformat": 4,
 "nbformat_minor": 2
}
